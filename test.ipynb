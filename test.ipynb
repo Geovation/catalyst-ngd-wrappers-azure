{
 "cells": [
  {
   "cell_type": "code",
   "execution_count": 1,
   "id": "99ba9cfb",
   "metadata": {},
   "outputs": [],
   "source": [
    "import requests"
   ]
  },
  {
   "cell_type": "code",
   "execution_count": 6,
   "id": "9ca76e68",
   "metadata": {},
   "outputs": [
    {
     "data": {
      "text/plain": [
       "{'code': 400,\n",
       " 'description': 'Query parameters are not accepted on the current path. Please refer to documentation.'}"
      ]
     },
     "execution_count": 6,
     "metadata": {},
     "output_type": "execute_result"
    }
   ],
   "source": [
    "requests.get('https://api.os.uk/features/ngd/ofa/v1/collections?test=2').json()"
   ]
  },
  {
   "cell_type": "code",
   "execution_count": 81,
   "id": "4f16d2de",
   "metadata": {},
   "outputs": [],
   "source": [
    "dict_ = {}"
   ]
  },
  {
   "cell_type": "code",
   "execution_count": 82,
   "id": "45dbd226",
   "metadata": {},
   "outputs": [],
   "source": [
    "recent_update_days = dict_.pop('recent-update-days', None)\n",
    "if dict_:\n",
    "    print('fail')"
   ]
  },
  {
   "cell_type": "code",
   "execution_count": 62,
   "id": "02152742",
   "metadata": {},
   "outputs": [
    {
     "data": {
      "text/plain": [
       "{}"
      ]
     },
     "execution_count": 62,
     "metadata": {},
     "output_type": "execute_result"
    }
   ],
   "source": [
    "dict_"
   ]
  },
  {
   "cell_type": "code",
   "execution_count": null,
   "id": "4db167e5",
   "metadata": {},
   "outputs": [],
   "source": []
  }
 ],
 "metadata": {
  "kernelspec": {
   "display_name": ".venv",
   "language": "python",
   "name": "python3"
  },
  "language_info": {
   "codemirror_mode": {
    "name": "ipython",
    "version": 3
   },
   "file_extension": ".py",
   "mimetype": "text/x-python",
   "name": "python",
   "nbconvert_exporter": "python",
   "pygments_lexer": "ipython3",
   "version": "3.10.4"
  }
 },
 "nbformat": 4,
 "nbformat_minor": 5
}
